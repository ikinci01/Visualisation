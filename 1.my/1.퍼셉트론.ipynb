{
 "cells": [
  {
   "cell_type": "markdown",
   "id": "e48ae707",
   "metadata": {},
   "source": [
    "# 배우는 이유\n",
    "프랑크 로젠블라트가 1957년에 고안한 알고리즘인 퍼셉트론은 신경망의 기원이 되는 알고리즘이다.  \n",
    "해당 구조를 배워야 신경망 개념의 주요 아이디어로 나아갈 수 있다."
   ]
  },
  {
   "cell_type": "markdown",
   "id": "a17b265c",
   "metadata": {},
   "source": [
    "# 1.퍼셉트론의 개념"
   ]
  },
  {
   "cell_type": "markdown",
   "id": "938313e9",
   "metadata": {},
   "source": [
    "[퍼셉트론 개념]  \n",
    "입력=다수의 신호  \n",
    "출력=하나의 신호  \n",
    "  \n",
    "정보를 흐름을 통해 하나의 출력값으로 만드는 데, 이 때 1/0(흐름 여부o/x)가 존재  "
   ]
  },
  {
   "cell_type": "markdown",
   "id": "7b5c50ea",
   "metadata": {},
   "source": [
    "(x1)---w1--->y  \n",
    "(x2)---w2--->y  \n",
    "  \n",
    "- x1,x2=입력 신호  \n",
    "- y=출력 신호  \n",
    "- w1,w2=가중치  \n",
    "  \n",
    "입력 신호가 각 뉴런에 보내질 때, 가중치가 곱해진다.  \n",
    "입력층의 뉴런이 출력층의 뉴런에 보내온 신호의 총합이 임계값(=세타)을 넘어설 때만 1을 출력한다.(=뉴런의 활성화)  "
   ]
  },
  {
   "cell_type": "markdown",
   "id": "9d7e54e6",
   "metadata": {},
   "source": [
    "이를 수식으로 나타내면,  \n",
    "  \n",
    "$$\n",
    "y = \\begin{cases} \n",
    "0 & \\text{if } (w_1x_1 + w_2x_2 \\leq 0) \\\\\n",
    "1 & \\text{if } (w_1x_1 + w_2x_2 > 0)\n",
    "\\end{cases}\n",
    "$$\n",
    "퍼셉트론은 복수의 입력 신호 각각에 고유한 가중치를 부여한다.  \n",
    "이는 각 신호가 결과에 미치는 영향력을 조절하는 요소로 작용한다.  \n",
    "=>가중치가 클 수록 중요한 신호"
   ]
  },
  {
   "cell_type": "markdown",
   "id": "13bfb171",
   "metadata": {},
   "source": [
    "# 2.단순한 논리회로"
   ]
  },
  {
   "cell_type": "markdown",
   "id": "71f218c3",
   "metadata": {},
   "source": [
    "### -AND게이트"
   ]
  },
  {
   "cell_type": "markdown",
   "id": "657c170e",
   "metadata": {},
   "source": [
    "2개의 입력, 1개의 출력을 가진 게이트.  \n",
    "해당 게이트의 대응표를 다음과 같이 진리표로 나타내자면  \n",
    "x1=0101  \n",
    "x2=0011  \n",
    "y=0001  \n",
    "  \n",
    "=>모두 1일 때만 1을 출력하고, 그 외에는 0을 출력"
   ]
  },
  {
   "cell_type": "markdown",
   "id": "2aa69370",
   "metadata": {},
   "source": [
    "이를 퍼셉트론으로 표현하고자 한다. 그러기 위해 w1,w2,세타 값을 정할 필요가 있다.  \n",
    "AND게이트의 특성을 활용: x1,x2가 모두 1일때만 임계값(1)을 넘도록 설정  \n",
    "ex)0.5, 0.5, 0.9 등"
   ]
  },
  {
   "cell_type": "markdown",
   "id": "410024ad",
   "metadata": {},
   "source": [
    "### -NAND, OR게이트"
   ]
  },
  {
   "cell_type": "markdown",
   "id": "0dd369f8",
   "metadata": {},
   "source": [
    "[NotAND] : 즉, AND게이트의 출력을 뒤집은 동작.  \n",
    "x1=0101  \n",
    "x2=0011  \n",
    "y=1110\n",
    "  \n",
    "=>x1,x2가 모두 1일 때만 0을 출력. 그 외에는 모두 1을 출력  "
   ]
  },
  {
   "cell_type": "markdown",
   "id": "a324685e",
   "metadata": {},
   "source": [
    "퍼셉트론으로 표현?  \n",
    "=>AND게이트 매개변수의 부호를 모두 반대로 설정 ex)-0.5,-0.5,-0.9"
   ]
  },
  {
   "cell_type": "markdown",
   "id": "8f309bfa",
   "metadata": {},
   "source": [
    "[OR]  \n",
    "입력 신호 둘 중 하나가 1이면 1, 그 외의 경우 0을 출력  \n",
    "x1=0101  \n",
    "x2=0011  \n",
    "y=0111\n",
    "  \n",
    "퍼셉트론으로 표현?  \n",
    "=>임계값을 낮게 설정. ex)0.2, 0.5, 0.1"
   ]
  },
  {
   "cell_type": "markdown",
   "id": "943c8a6d",
   "metadata": {},
   "source": [
    "** 참고  \n",
    "기계학습이란, 이 매개변수 값을 컴퓨터가 자동으로 하도록 하는 것.  \n",
    "즉, 적절한 매개변수 값을 정하도록 하는 게 학습.  \n",
    "인간은 이 퍼셉트론의 구조(모델)을 연구하고, 학습할 데이터를 주는 역할."
   ]
  },
  {
   "cell_type": "markdown",
   "id": "130f91a1",
   "metadata": {},
   "source": [
    "퍼셉트론을 통한 AND, NAND, OR의 논리 회로 구현을 간단하게 해보면서 알게 된 것은  \n",
    "동일한 구조들에서 매개변수 값(가중치, 임계값)만 조정하여 새로운 회로를 만들어낸다는 점"
   ]
  },
  {
   "cell_type": "markdown",
   "id": "caf1db1b",
   "metadata": {},
   "source": [
    "# 3.퍼셉트론 구현"
   ]
  },
  {
   "cell_type": "markdown",
   "id": "f93eddaa",
   "metadata": {},
   "source": [
    "### -간단한 구현"
   ]
  },
  {
   "cell_type": "code",
   "execution_count": 2,
   "id": "69844cf3",
   "metadata": {},
   "outputs": [],
   "source": [
    "import numpy as np"
   ]
  },
  {
   "cell_type": "code",
   "execution_count": 2,
   "id": "3735b3b0",
   "metadata": {},
   "outputs": [],
   "source": [
    "#가중치들로 AND게이트 구현\n",
    "def AND(x1, x2):\n",
    "    w1, w2, theta = 0.5, 0.5, 0.7\n",
    "    tmp = x1*w1 + x2*w2\n",
    "    if tmp <= theta:\n",
    "        return 0\n",
    "    else: \n",
    "        return 1"
   ]
  },
  {
   "cell_type": "code",
   "execution_count": 4,
   "id": "e5d3c1d4",
   "metadata": {},
   "outputs": [
    {
     "name": "stdout",
     "output_type": "stream",
     "text": [
      "0\n",
      "0\n",
      "0\n",
      "1\n"
     ]
    }
   ],
   "source": [
    "print(AND(0,0))\n",
    "print(AND(1,0))\n",
    "print(AND(0,1))\n",
    "print(AND(1,1))\n",
    "\n",
    "#임계값(theta)을 두 개의 (입력값*가중치값)이 넘을 때만, 1을 출력하는 것을 확인 => AND구현"
   ]
  },
  {
   "cell_type": "markdown",
   "id": "c6ddc2a0",
   "metadata": {},
   "source": [
    "### -편향이 도입된 구현"
   ]
  },
  {
   "cell_type": "markdown",
   "id": "df700704",
   "metadata": {},
   "source": [
    "$$\n",
    "y = \\begin{cases} \n",
    "0 & \\text{if } (b + w_1x_1 + w_2x_2 \\leq 0) \\\\\n",
    "1 & \\text{if } (b + w_1x_1 + w_2x_2 > 0)\n",
    "\\end{cases}\n",
    "$$\n",
    "  \n",
    "출력값이 0을 넘으면 1, 그 미만이면 0을 출력.  \n",
    "수치가 주는 영향을 봤을 때  \n",
    "- 가중치: 뉴런의 영향력(중요도)을 조절  \n",
    "- 편향: 뉴런의 활성화에 기여"
   ]
  },
  {
   "cell_type": "code",
   "execution_count": 3,
   "id": "03637b8c",
   "metadata": {},
   "outputs": [
    {
     "data": {
      "text/plain": [
       "array([0. , 0.5])"
      ]
     },
     "execution_count": 3,
     "metadata": {},
     "output_type": "execute_result"
    }
   ],
   "source": [
    "x = np.array([0,1])  #input\n",
    "w = np.array([0.5, 0.5])  #weight\n",
    "b = -0.7  #bias\n",
    "w*x\n",
    "\n",
    "#numpy array에서 같은 원소갯수라면, index가 같은 원소끼리 곱연산"
   ]
  },
  {
   "cell_type": "code",
   "execution_count": 5,
   "id": "4ede0531",
   "metadata": {},
   "outputs": [
    {
     "name": "stdout",
     "output_type": "stream",
     "text": [
      "0.5\n",
      "-0.8999999999999999\n"
     ]
    }
   ],
   "source": [
    "#편향 반영의 차이\n",
    "print(np.sum(w*x))\n",
    "print(np.sum(w*x + b))"
   ]
  },
  {
   "cell_type": "markdown",
   "id": "2a739d95",
   "metadata": {},
   "source": [
    "### -가중치+편향을 실제로 구현"
   ]
  },
  {
   "cell_type": "code",
   "execution_count": 6,
   "id": "df973c34",
   "metadata": {},
   "outputs": [],
   "source": [
    "#편향 반영을 AND게이트 구현 적용\n",
    "def AND(x1, x2):\n",
    "    x = np.array([x1, x2])\n",
    "    w = np.array([0.5, 0.5])\n",
    "    b = -0.7\n",
    "    tmp = np.sum(w*x) + b  #편향 추가(-theta = b로 치환해서 구현)\n",
    "    if tmp <= 0:\n",
    "        return 0\n",
    "    else:\n",
    "        return 1"
   ]
  },
  {
   "cell_type": "code",
   "execution_count": 7,
   "id": "3b4e1cea",
   "metadata": {},
   "outputs": [],
   "source": [
    "#NAND에 적용\n",
    "def NAND(x1, x2):\n",
    "    x = np.array([x1, x2])\n",
    "    w = np.array([-0.5, -0.5])  #가중치를 모두 음수로 설정\n",
    "    b = 0.7\n",
    "    tmp = np.sum(w*x)+b\n",
    "    if tmp <= 0:\n",
    "        return 0\n",
    "    else: \n",
    "        return 1"
   ]
  },
  {
   "cell_type": "code",
   "execution_count": 8,
   "id": "bd4885d0",
   "metadata": {},
   "outputs": [],
   "source": [
    "#OR에 적용\n",
    "def OR(x1, x2):\n",
    "    x = np.array([x1, x2])\n",
    "    w = np.array([0.5, 0.5])\n",
    "    b = -0.2  #편향을 낮게 설정\n",
    "    tmp = np.sum(w*x)+b\n",
    "    if tmp <= 0:\n",
    "        return 0\n",
    "    else: \n",
    "        return 1"
   ]
  },
  {
   "cell_type": "markdown",
   "id": "7078f2fc",
   "metadata": {},
   "source": [
    "# 4.퍼셉트론의 한계"
   ]
  },
  {
   "cell_type": "markdown",
   "id": "9665a36b",
   "metadata": {},
   "source": [
    "### -XOR게이트\n",
    "다른 말로, 배타적 논리합을 나타내는 논리 회로.  \n",
    "한 쪽이 1일 때만 1을 출력. 입력값이 서로 같으면 0을 출력.  \n",
    "x1=0101  \n",
    "x2=0011  \n",
    "y=0110  "
   ]
  },
  {
   "cell_type": "markdown",
   "id": "6358a612",
   "metadata": {},
   "source": [
    "해당 게이트가 바로 퍼셉트론의 한계라 할 수 있다.(구현불가능)  \n",
    "OR게이트 수식을 예로 들어보자면 다음과 같다.  \n",
    "$$\n",
    "y = \\begin{cases} \n",
    "0 & \\text{if } (-0.5 + x_1 + x_2 \\leq 0) \\\\\n",
    "1 & \\text{if } (-0.5 + x_1 + x_2 > 0)\n",
    "\\end{cases}\n",
    "$$"
   ]
  },
  {
   "cell_type": "code",
   "execution_count": 2,
   "id": "e48fe73c",
   "metadata": {},
   "outputs": [
    {
     "data": {
      "image/png": "[encoded data removed]",
      "text/plain": [
       "<Figure size 1000x800 with 1 Axes>"
      ]
     },
     "metadata": {},
     "output_type": "display_data"
    }
   ],
   "source": [
    "#OR게이트 그래프\n",
    "import matplotlib.pyplot as plt\n",
    "\n",
    "\n",
    "# Create figure and axis\n",
    "plt.figure(figsize=(10, 8))\n",
    "\n",
    "# Generate points for the decision boundary\n",
    "x = np.linspace(-2, 3, 100)\n",
    "y = 0.5 - x  # From -0.5 + x1 + x2 = 0 -> x2 = 0.5 - x1\n",
    "\n",
    "# Plot decision boundary\n",
    "plt.plot(x, y, 'b-', label='Decision Boundary')\n",
    "\n",
    "# Fill regions with different colors\n",
    "plt.fill_between(x, y, 3, alpha=0.3, color='red', label='y = 1')\n",
    "plt.fill_between(x, -3, y, alpha=0.3, color='blue', label='y = 0')\n",
    "\n",
    "# Set plot parameters\n",
    "plt.xlim(-2, 3)\n",
    "plt.ylim(-2, 3)\n",
    "plt.grid(True, linestyle='--', alpha=0.7)\n",
    "plt.axhline(y=0, color='k', linestyle='-', alpha=0.3)\n",
    "plt.axvline(x=0, color='k', linestyle='-', alpha=0.3)\n",
    "\n",
    "# Labels and title\n",
    "plt.xlabel('$x_1$', fontsize=12)\n",
    "plt.ylabel('$x_2$', fontsize=12)\n",
    "plt.title('Perceptron Decision Boundary\\n$y = 1$ if $(-0.5 + x_1 + x_2 > 0)$, $y = 0$ otherwise', fontsize=13)\n",
    "plt.legend(loc='upper right')\n",
    "\n",
    "# Add decision boundary equation\n",
    "plt.text(1.5, -1.5, '$-0.5 + x_1 + x_2 = 0$', fontsize=12)\n",
    "\n",
    "plt.tight_layout()\n",
    "plt.show()"
   ]
  },
  {
   "cell_type": "markdown",
   "id": "840f0f70",
   "metadata": {},
   "source": [
    "위와 같이, 퍼셉트론은 애초에 그래프적으로 직선으로 나뉜 두 영역을 만든다.  \n",
    "(x1,x2)가 (0,0)일 때는 0을 출력.  \n",
    "(0,1),(1,0),(1,1)일 때는 1을 출력.  \n",
    "  \n",
    "이렇듯, 직선으로 나눈 두 영역에서 제대로 분류가 되어 있어야 퍼셉트론이 올바르게 작동한다고 할 수 있다."
   ]
  },
  {
   "cell_type": "markdown",
   "id": "3f5d92d1",
   "metadata": {},
   "source": [
    "문제는 여기에서 나온다. XOR게이트의 경우, 직선만으로는 해당 로직에  \n",
    "오류가 생길 수 밖에 없다.  \n",
    "(x1,x2)가 (0,1),(1,0)일 때는 1을 출력.\n",
    "(0,0),(1,1)일 때는 0을 출력.  \n",
    "  \n",
    "즉, 선형 로직의 한계다. =>단층 퍼셉트론으로는 비선형 영역을 분리 불가"
   ]
  },
  {
   "cell_type": "markdown",
   "id": "7a022715",
   "metadata": {},
   "source": [
    "### -비선형 로직의 필요성\n",
    "선형 영역으로만 해결은 불가하기에 곡선(2차식)을 활용할 필요가 생긴다.  \n",
    "이를, 비선형 영역이라고 한다."
   ]
  },
  {
   "cell_type": "markdown",
   "id": "ac54a82a",
   "metadata": {},
   "source": [
    "# 5.다층 퍼셉트론"
   ]
  },
  {
   "cell_type": "markdown",
   "id": "49a1d194",
   "metadata": {},
   "source": [
    "층을 쌓으면 다층 퍼셉트론을 만들 수 있다.  \n",
    "이를 통해 비선형 영역을 구현가능하다."
   ]
  },
  {
   "cell_type": "markdown",
   "id": "ad39bd86",
   "metadata": {},
   "source": [
    "### -기존 게이트 조합\n",
    "방법은 다양하다. 그 중 하나는 AND, NAND, OR를 조합하는 것이다.  \n",
    "1)x1,x2(두 입력신호)를 각각 NAND, OR에 넣고 두 게이트의 출력값을 입력을 둔다.  \n",
    "2)이 1)의 출력을 AND의 입력값으로 사용해 출력한다 = XOR게이트 출력  \n",
    "  \n",
    "x1=0101  \n",
    "x2=0011  \n",
    "s1=1110(NAND출력)  \n",
    "s2=0111(OR출력)  \n",
    "\n",
    "---AND---  \n",
    "y=0110"
   ]
  },
  {
   "cell_type": "markdown",
   "id": "58b7aa5e",
   "metadata": {},
   "source": [
    "원리는 생각보다 간단하다.  \n",
    "- 입력이 (0,0)의 경우: AND가 0을 출력  \n",
    "- 입력이 (0,1),(1,0)의 경우: AND가 1을 출력  \n",
    "- 입력이 (1,1)의 경우: AND가 0을 출력  \n",
    "  \n",
    "위 결과를 만들기 위해 입력으로 세팅한 게이트는 각각 다음과 같으므로  \n",
    "NAND=11제외 모두 1  \n",
    "OR=하나라도 1인 경우면 모두 1  \n",
    "  \n",
    "처음 입력값이 서로 다른 경우에만 1을 출력하게 만든다.  \n",
    "AND게이트 층이 이를 받아 XOR게이트의 연산처럼 만드는 것"
   ]
  },
  {
   "cell_type": "markdown",
   "id": "d8de5ac7",
   "metadata": {},
   "source": [
    "### -XOR게이트 구현"
   ]
  },
  {
   "cell_type": "code",
   "execution_count": 4,
   "id": "1b6b2d10",
   "metadata": {},
   "outputs": [],
   "source": [
    "def XOR(x1, x2):\n",
    "    s1 = NAND(x1,x2)\n",
    "    s2 = OR(x1,x2)\n",
    "    y = AND(s1,s2)\n",
    "    return y"
   ]
  },
  {
   "cell_type": "code",
   "execution_count": 9,
   "id": "ea47c6b7",
   "metadata": {},
   "outputs": [
    {
     "name": "stdout",
     "output_type": "stream",
     "text": [
      "0\n",
      "1\n",
      "1\n",
      "0\n"
     ]
    }
   ],
   "source": [
    "print(XOR(0,0))\n",
    "print(XOR(0,1))\n",
    "print(XOR(1,0))\n",
    "print(XOR(1,1))"
   ]
  },
  {
   "attachments": {
    "image.png": {
     "image/png": "[encoded data removed]"
    }
   },
   "cell_type": "markdown",
   "id": "8c22f6e1",
   "metadata": {},
   "source": [
    "![image.png](attachment:image.png)  \n",
    "  \n",
    "그림처럼 다층 구조의 네트워크를 가진다. =>다층 퍼셉트론  \n",
    "(가중치를 갖는 층은 사실 0 ~ 1층 사이, 1 ~ 2층 사이 이렇게 2개이므로 2층)"
   ]
  },
  {
   "cell_type": "markdown",
   "id": "b21a300c",
   "metadata": {},
   "source": [
    "보다시피 마치 부품을 조립하는 것과 같다.  \n",
    "1층에서 부품을 조립해서 2층에 전달하면 해당 층의 함수가 완성품으로 만들어 최종 출력한다.  \n",
    "이렇게 단층으로는 표현하지 못한 것을 층을 깊게 해서 더 다양한 것을 구현 가능하다!"
   ]
  },
  {
   "cell_type": "markdown",
   "id": "e8e57bf4",
   "metadata": {},
   "source": [
    "# 6.NAND에서 컴퓨터까지"
   ]
  },
  {
   "cell_type": "markdown",
   "id": "465aa12e",
   "metadata": {},
   "source": [
    "컴퓨턴 입력한 것을 정해진 방법으로 처리하고, 그 결과를 출력한다.  \n",
    "그렇기에 이론상 NAND게이트의 조합만으로 컴퓨터까지도 만들 수 있다!(물론 비효율적이고, 실제로는 저수준 소자로 구현하는 게 옳다.)  \n",
    "- 기억할 것은 퍼셉트론을 통해 층을 쌓아 비선형적 표현이 가능하다는 것.  \n",
    "- 이를 통해 복잡한 정보처리(이론상으론 컴퓨터가 수행하는 처리까지)를 모두 표현할 수 있다는 것."
   ]
  },
  {
   "cell_type": "markdown",
   "id": "6cd9195b",
   "metadata": {},
   "source": [
    "또한 최종적으로 정리하자면,  \n",
    "- 퍼셉트론은 입출력을 갖춘 알고리즘. 입력을 정해진 규칙에 따라 출력.  \n",
    "- 또한, 가중치, 편향을 매개변수로 설정  =>이를 통해 AND,NAND,OR를 구현가능\n",
    "- 층을 깊게 하여 선형 영역에서 비선형 영역(XOR)의 구현이 가능  "
   ]
  },
  {
   "cell_type": "code",
   "execution_count": null,
   "id": "36a79429",
   "metadata": {},
   "outputs": [],
   "source": []
  },
  {
   "cell_type": "code",
   "execution_count": null,
   "id": "a9e2dbdf",
   "metadata": {},
   "outputs": [],
   "source": []
  }
 ],
 "metadata": {
  "kernelspec": {
   "display_name": "Python 3 (ipykernel)",
   "language": "python",
   "name": "python3"
  },
  "language_info": {
   "codemirror_mode": {
    "name": "ipython",
    "version": 3
   },
   "file_extension": ".py",
   "mimetype": "text/x-python",
   "name": "python",
   "nbconvert_exporter": "python",
   "pygments_lexer": "ipython3",
   "version": "3.10.13"
  }
 },
 "nbformat": 4,
 "nbformat_minor": 5
}
